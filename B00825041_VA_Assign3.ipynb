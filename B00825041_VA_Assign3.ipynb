{
 "cells": [
  {
   "cell_type": "code",
   "execution_count": 1,
   "metadata": {},
   "outputs": [],
   "source": [
    "import os\n",
    "os.getcwd()\n",
    "\n",
    "import warnings\n",
    "warnings.filterwarnings('ignore')\n",
    "\n",
    "import re"
   ]
  },
  {
   "cell_type": "code",
   "execution_count": 2,
   "metadata": {},
   "outputs": [],
   "source": [
    "os.chdir('/Users/dipankarmazumdar/Documents/Visual Analytics')"
   ]
  },
  {
   "cell_type": "code",
   "execution_count": 3,
   "metadata": {},
   "outputs": [],
   "source": [
    "import pandas as pd\n",
    "dataset = pd.read_csv(\"dataset1_processed.csv\")"
   ]
  },
  {
   "cell_type": "code",
   "execution_count": 4,
   "metadata": {},
   "outputs": [
    {
     "data": {
      "text/html": [
       "<div>\n",
       "<style scoped>\n",
       "    .dataframe tbody tr th:only-of-type {\n",
       "        vertical-align: middle;\n",
       "    }\n",
       "\n",
       "    .dataframe tbody tr th {\n",
       "        vertical-align: top;\n",
       "    }\n",
       "\n",
       "    .dataframe thead th {\n",
       "        text-align: right;\n",
       "    }\n",
       "</style>\n",
       "<table border=\"1\" class=\"dataframe\">\n",
       "  <thead>\n",
       "    <tr style=\"text-align: right;\">\n",
       "      <th></th>\n",
       "      <th>workclass</th>\n",
       "      <th>occupation</th>\n",
       "      <th>education</th>\n",
       "      <th>marital-status</th>\n",
       "      <th>relationship</th>\n",
       "      <th>race</th>\n",
       "      <th>sex</th>\n",
       "      <th>native-country</th>\n",
       "      <th>age</th>\n",
       "      <th>hours-per-week</th>\n",
       "      <th>workclassnew</th>\n",
       "      <th>salary</th>\n",
       "    </tr>\n",
       "  </thead>\n",
       "  <tbody>\n",
       "    <tr>\n",
       "      <td>0</td>\n",
       "      <td>state gov</td>\n",
       "      <td>dmclrical</td>\n",
       "      <td>Bachelors</td>\n",
       "      <td>Never-married</td>\n",
       "      <td>Not-in-family</td>\n",
       "      <td>White</td>\n",
       "      <td>Male</td>\n",
       "      <td>United-States</td>\n",
       "      <td>0.301370</td>\n",
       "      <td>0.397959</td>\n",
       "      <td>stategov</td>\n",
       "      <td>&lt;=50K</td>\n",
       "    </tr>\n",
       "    <tr>\n",
       "      <td>1</td>\n",
       "      <td>self-emp-not-inc</td>\n",
       "      <td>Exec-managerial</td>\n",
       "      <td>Bachelors</td>\n",
       "      <td>Married-civ-spouse</td>\n",
       "      <td>Husband</td>\n",
       "      <td>White</td>\n",
       "      <td>Male</td>\n",
       "      <td>United-States</td>\n",
       "      <td>0.452055</td>\n",
       "      <td>0.122449</td>\n",
       "      <td>selfempnotinc</td>\n",
       "      <td>&lt;=50K</td>\n",
       "    </tr>\n",
       "    <tr>\n",
       "      <td>2</td>\n",
       "      <td>private</td>\n",
       "      <td>Handlerscleaners</td>\n",
       "      <td>HS-grad</td>\n",
       "      <td>Divorced</td>\n",
       "      <td>Not-in-family</td>\n",
       "      <td>White</td>\n",
       "      <td>Male</td>\n",
       "      <td>United-States</td>\n",
       "      <td>0.287671</td>\n",
       "      <td>0.397959</td>\n",
       "      <td>private</td>\n",
       "      <td>&lt;=50K</td>\n",
       "    </tr>\n",
       "    <tr>\n",
       "      <td>3</td>\n",
       "      <td>private</td>\n",
       "      <td>Handlers-cleaners</td>\n",
       "      <td>11th</td>\n",
       "      <td>Married-civ-spouse</td>\n",
       "      <td>Husband</td>\n",
       "      <td>Black</td>\n",
       "      <td>Male</td>\n",
       "      <td>United-States</td>\n",
       "      <td>0.493151</td>\n",
       "      <td>0.397959</td>\n",
       "      <td>private</td>\n",
       "      <td>&lt;=50K</td>\n",
       "    </tr>\n",
       "    <tr>\n",
       "      <td>4</td>\n",
       "      <td>private</td>\n",
       "      <td>Profspecialty</td>\n",
       "      <td>Bachelors</td>\n",
       "      <td>Married-civ-spouse</td>\n",
       "      <td>Wife</td>\n",
       "      <td>Black</td>\n",
       "      <td>Female</td>\n",
       "      <td>Cuba</td>\n",
       "      <td>0.150685</td>\n",
       "      <td>0.397959</td>\n",
       "      <td>private</td>\n",
       "      <td>&lt;=50K</td>\n",
       "    </tr>\n",
       "  </tbody>\n",
       "</table>\n",
       "</div>"
      ],
      "text/plain": [
       "          workclass         occupation  education      marital-status  \\\n",
       "0         state gov          dmclrical  Bachelors       Never-married   \n",
       "1  self-emp-not-inc    Exec-managerial  Bachelors  Married-civ-spouse   \n",
       "2           private   Handlerscleaners    HS-grad            Divorced   \n",
       "3           private  Handlers-cleaners       11th  Married-civ-spouse   \n",
       "4           private      Profspecialty  Bachelors  Married-civ-spouse   \n",
       "\n",
       "    relationship   race     sex native-country       age  hours-per-week  \\\n",
       "0  Not-in-family  White    Male  United-States  0.301370        0.397959   \n",
       "1        Husband  White    Male  United-States  0.452055        0.122449   \n",
       "2  Not-in-family  White    Male  United-States  0.287671        0.397959   \n",
       "3        Husband  Black    Male  United-States  0.493151        0.397959   \n",
       "4           Wife  Black  Female           Cuba  0.150685        0.397959   \n",
       "\n",
       "    workclassnew salary  \n",
       "0       stategov  <=50K  \n",
       "1  selfempnotinc  <=50K  \n",
       "2        private  <=50K  \n",
       "3        private  <=50K  \n",
       "4        private  <=50K  "
      ]
     },
     "execution_count": 4,
     "metadata": {},
     "output_type": "execute_result"
    }
   ],
   "source": [
    "dataset.head()"
   ]
  },
  {
   "cell_type": "code",
   "execution_count": 5,
   "metadata": {},
   "outputs": [
    {
     "data": {
      "text/plain": [
       "array(['stategov', 'selfempnotinc', 'private', 'federalgov', 'localgov',\n",
       "       'selfempinc', 'selfempnotnc', 'selfempnc', 'selfempotinc',\n",
       "       'withoutpay', 'selfempotic', 'selfempotnc'], dtype=object)"
      ]
     },
     "execution_count": 5,
     "metadata": {},
     "output_type": "execute_result"
    }
   ],
   "source": [
    "#Checking the unique values in my 'workclass' column:\n",
    "dataset['workclassnew'].unique()"
   ]
  },
  {
   "cell_type": "markdown",
   "metadata": {},
   "source": [
    "# As part of Question 5, I am fixing the typos to their actual name for the \"workclass\" columm:"
   ]
  },
  {
   "cell_type": "code",
   "execution_count": 6,
   "metadata": {},
   "outputs": [],
   "source": [
    "new1 = []\n",
    "for i in dataset['workclassnew']:\n",
    "    a = i.replace(\"selfempnotnc\", \"selfempnotinc\")\n",
    "    new1.append(a)\n",
    "dataset['workclass_iter1'] = new1"
   ]
  },
  {
   "cell_type": "code",
   "execution_count": 7,
   "metadata": {},
   "outputs": [],
   "source": [
    "new2 = []\n",
    "for i in dataset['workclass_iter1']:\n",
    "    a = i.replace(\"selfempnc\", \"selfempinc\")\n",
    "    new2.append(a)\n",
    "dataset['workclass_iter1'] = new2"
   ]
  },
  {
   "cell_type": "code",
   "execution_count": 8,
   "metadata": {},
   "outputs": [],
   "source": [
    "new3 = []\n",
    "for i in dataset['workclass_iter1']:\n",
    "    a = i.replace(\"selfempotinc\", \"selfempnotinc\")\n",
    "    new3.append(a)\n",
    "dataset['workclass_iter1'] = new3"
   ]
  },
  {
   "cell_type": "code",
   "execution_count": 9,
   "metadata": {},
   "outputs": [],
   "source": [
    "new4 = []\n",
    "for i in dataset['workclass_iter1']:\n",
    "    a = i.replace(\"selfempotic\", \"selfempnotinc\")\n",
    "    new4.append(a)\n",
    "dataset['workclass_iter1'] = new4"
   ]
  },
  {
   "cell_type": "code",
   "execution_count": 10,
   "metadata": {},
   "outputs": [],
   "source": [
    "new5 = []\n",
    "for i in dataset['workclass_iter1']:\n",
    "    a = i.replace(\"selfempotnc\", \"selfempnotinc\")\n",
    "    new5.append(a)\n",
    "dataset['workclass_iter1'] = new5"
   ]
  },
  {
   "cell_type": "code",
   "execution_count": 11,
   "metadata": {},
   "outputs": [
    {
     "data": {
      "text/plain": [
       "array(['stategov', 'selfempnotinc', 'private', 'federalgov', 'localgov',\n",
       "       'selfempinc', 'withoutpay'], dtype=object)"
      ]
     },
     "execution_count": 11,
     "metadata": {},
     "output_type": "execute_result"
    }
   ],
   "source": [
    "dataset['workclass_iter1'].unique()"
   ]
  },
  {
   "cell_type": "code",
   "execution_count": 12,
   "metadata": {},
   "outputs": [],
   "source": [
    "#DROP COLUMN:\n",
    "dataset = dataset.drop('workclass', 1)"
   ]
  },
  {
   "cell_type": "code",
   "execution_count": 13,
   "metadata": {},
   "outputs": [],
   "source": [
    "#DROP COLUMN:\n",
    "dataset = dataset.drop('workclassnew', 1)"
   ]
  },
  {
   "cell_type": "code",
   "execution_count": 14,
   "metadata": {},
   "outputs": [],
   "source": [
    "dataset = dataset.rename(columns={'workclass_iter1':'workclass'})"
   ]
  },
  {
   "cell_type": "code",
   "execution_count": 15,
   "metadata": {},
   "outputs": [
    {
     "data": {
      "text/html": [
       "<div>\n",
       "<style scoped>\n",
       "    .dataframe tbody tr th:only-of-type {\n",
       "        vertical-align: middle;\n",
       "    }\n",
       "\n",
       "    .dataframe tbody tr th {\n",
       "        vertical-align: top;\n",
       "    }\n",
       "\n",
       "    .dataframe thead th {\n",
       "        text-align: right;\n",
       "    }\n",
       "</style>\n",
       "<table border=\"1\" class=\"dataframe\">\n",
       "  <thead>\n",
       "    <tr style=\"text-align: right;\">\n",
       "      <th></th>\n",
       "      <th>occupation</th>\n",
       "      <th>education</th>\n",
       "      <th>marital-status</th>\n",
       "      <th>relationship</th>\n",
       "      <th>race</th>\n",
       "      <th>sex</th>\n",
       "      <th>native-country</th>\n",
       "      <th>age</th>\n",
       "      <th>hours-per-week</th>\n",
       "      <th>salary</th>\n",
       "      <th>workclass</th>\n",
       "    </tr>\n",
       "  </thead>\n",
       "  <tbody>\n",
       "    <tr>\n",
       "      <td>0</td>\n",
       "      <td>dmclrical</td>\n",
       "      <td>Bachelors</td>\n",
       "      <td>Never-married</td>\n",
       "      <td>Not-in-family</td>\n",
       "      <td>White</td>\n",
       "      <td>Male</td>\n",
       "      <td>United-States</td>\n",
       "      <td>0.301370</td>\n",
       "      <td>0.397959</td>\n",
       "      <td>&lt;=50K</td>\n",
       "      <td>stategov</td>\n",
       "    </tr>\n",
       "    <tr>\n",
       "      <td>1</td>\n",
       "      <td>Exec-managerial</td>\n",
       "      <td>Bachelors</td>\n",
       "      <td>Married-civ-spouse</td>\n",
       "      <td>Husband</td>\n",
       "      <td>White</td>\n",
       "      <td>Male</td>\n",
       "      <td>United-States</td>\n",
       "      <td>0.452055</td>\n",
       "      <td>0.122449</td>\n",
       "      <td>&lt;=50K</td>\n",
       "      <td>selfempnotinc</td>\n",
       "    </tr>\n",
       "    <tr>\n",
       "      <td>2</td>\n",
       "      <td>Handlerscleaners</td>\n",
       "      <td>HS-grad</td>\n",
       "      <td>Divorced</td>\n",
       "      <td>Not-in-family</td>\n",
       "      <td>White</td>\n",
       "      <td>Male</td>\n",
       "      <td>United-States</td>\n",
       "      <td>0.287671</td>\n",
       "      <td>0.397959</td>\n",
       "      <td>&lt;=50K</td>\n",
       "      <td>private</td>\n",
       "    </tr>\n",
       "    <tr>\n",
       "      <td>3</td>\n",
       "      <td>Handlers-cleaners</td>\n",
       "      <td>11th</td>\n",
       "      <td>Married-civ-spouse</td>\n",
       "      <td>Husband</td>\n",
       "      <td>Black</td>\n",
       "      <td>Male</td>\n",
       "      <td>United-States</td>\n",
       "      <td>0.493151</td>\n",
       "      <td>0.397959</td>\n",
       "      <td>&lt;=50K</td>\n",
       "      <td>private</td>\n",
       "    </tr>\n",
       "    <tr>\n",
       "      <td>4</td>\n",
       "      <td>Profspecialty</td>\n",
       "      <td>Bachelors</td>\n",
       "      <td>Married-civ-spouse</td>\n",
       "      <td>Wife</td>\n",
       "      <td>Black</td>\n",
       "      <td>Female</td>\n",
       "      <td>Cuba</td>\n",
       "      <td>0.150685</td>\n",
       "      <td>0.397959</td>\n",
       "      <td>&lt;=50K</td>\n",
       "      <td>private</td>\n",
       "    </tr>\n",
       "  </tbody>\n",
       "</table>\n",
       "</div>"
      ],
      "text/plain": [
       "          occupation  education      marital-status   relationship   race  \\\n",
       "0          dmclrical  Bachelors       Never-married  Not-in-family  White   \n",
       "1    Exec-managerial  Bachelors  Married-civ-spouse        Husband  White   \n",
       "2   Handlerscleaners    HS-grad            Divorced  Not-in-family  White   \n",
       "3  Handlers-cleaners       11th  Married-civ-spouse        Husband  Black   \n",
       "4      Profspecialty  Bachelors  Married-civ-spouse           Wife  Black   \n",
       "\n",
       "      sex native-country       age  hours-per-week salary      workclass  \n",
       "0    Male  United-States  0.301370        0.397959  <=50K       stategov  \n",
       "1    Male  United-States  0.452055        0.122449  <=50K  selfempnotinc  \n",
       "2    Male  United-States  0.287671        0.397959  <=50K        private  \n",
       "3    Male  United-States  0.493151        0.397959  <=50K        private  \n",
       "4  Female           Cuba  0.150685        0.397959  <=50K        private  "
      ]
     },
     "execution_count": 15,
     "metadata": {},
     "output_type": "execute_result"
    }
   ],
   "source": [
    "dataset.head(5)"
   ]
  },
  {
   "cell_type": "code",
   "execution_count": 19,
   "metadata": {},
   "outputs": [
    {
     "data": {
      "text/plain": [
       "array(['Adm-clerical', 'Exec-managerial', 'Handlers-cleaners',\n",
       "       'Prof-specialty', 'Other-service', 'Sales', 'Transport-moving',\n",
       "       'Farming-fishing', 'Machine-op-inspct', 'Tech-support',\n",
       "       'Craft-repair', 'Protective-serv', 'Armed-Forces',\n",
       "       'Priv-house-serv'], dtype=object)"
      ]
     },
     "execution_count": 19,
     "metadata": {},
     "output_type": "execute_result"
    }
   ],
   "source": [
    "dataset['occupation'].unique()"
   ]
  },
  {
   "cell_type": "markdown",
   "metadata": {},
   "source": [
    "# As part of Question 5, I am fixing the typos to their actual name for the \"occupation\" columm:"
   ]
  },
  {
   "cell_type": "code",
   "execution_count": 17,
   "metadata": {},
   "outputs": [],
   "source": [
    "dataset.occupation=dataset.occupation.str.replace(r\"(^(Te|te|Tc|tc|e|E))(.*(r|t)$)\",\"Tech-support\",regex=True)"
   ]
  },
  {
   "cell_type": "code",
   "execution_count": 18,
   "metadata": {},
   "outputs": [],
   "source": [
    "dataset.occupation=dataset.occupation.str.replace(r\"(^(s|S|al))(.*(s|e|l)$)\",\"Sales\",regex=True)\n",
    "dataset.occupation=dataset.occupation.str.replace(r\"(^(r|R|T|t))(.*(g|n)$)\",\"Transport-moving\",regex=True)\n",
    "dataset.occupation=dataset.occupation.str.replace(r\"(^(o|O|T|t))(.*(e|c)$)\",\"Other-service\",regex=True) \n",
    "dataset.occupation=dataset.occupation.str.replace(r\"(^(c|C|ra|Ra))(.*(i|r)$)\",\"Craft-repair\",regex=True)\n",
    "dataset.occupation=dataset.occupation.str.replace(r\"(^(x|X|e|E))(.*(l|a)$)\",\"Exec-managerial\",regex=True)\n",
    "dataset.occupation=dataset.occupation.str.replace(r\"(^(pr|Pr|ro|Ro|Po|po))(.*(y|t)$)\",\"Prof-specialty\",regex=True)\n",
    "dataset.occupation=dataset.occupation.str.replace(r\"(^(h|H|an|An))(.*(r|s)$)\",\"Handlers-cleaners\",regex=True)\n",
    "dataset.occupation=dataset.occupation.str.replace(r\"(^(m|M|a|A))(.*(t|c)$)\",\"Machine-op-inspct\",regex=True)\n",
    "dataset.occupation=dataset.occupation.str.replace(r\"(^(a|A|d|D))(.*(a|l)$)\",\"Adm-clerical\",regex=True)\n",
    "dataset.occupation=dataset.occupation.str.replace(r\"(^(a|A|f|F))(.*(g|n)$)\",\"Farming-fishing\",regex=True)\n",
    "dataset.occupation=dataset.occupation.str.replace(r\"(^(Pri|pri|Prv|prv))(.*(v)$)\",\"Priv-house-serv\",regex=True)\n",
    "dataset.occupation=dataset.occupation.str.replace(r\"(^(Pro|pro|ro|Ro|Prt|prt|Prv|prv|Po|po))(.*(r|v)$)\",\"Protective-serv\",regex=True)\n",
    "dataset.occupation=dataset.occupation.str.replace(r\"(^(Ar|ar))(.*(s)$)\",\"Armed-Forces\",regex=True) \n",
    "\n",
    "#References: https://rosettacode.org/wiki/Regular_expressions"
   ]
  },
  {
   "cell_type": "code",
   "execution_count": 24,
   "metadata": {},
   "outputs": [
    {
     "data": {
      "text/html": [
       "<div>\n",
       "<style scoped>\n",
       "    .dataframe tbody tr th:only-of-type {\n",
       "        vertical-align: middle;\n",
       "    }\n",
       "\n",
       "    .dataframe tbody tr th {\n",
       "        vertical-align: top;\n",
       "    }\n",
       "\n",
       "    .dataframe thead th {\n",
       "        text-align: right;\n",
       "    }\n",
       "</style>\n",
       "<table border=\"1\" class=\"dataframe\">\n",
       "  <thead>\n",
       "    <tr style=\"text-align: right;\">\n",
       "      <th></th>\n",
       "      <th>occupation</th>\n",
       "      <th>education</th>\n",
       "      <th>marital-status</th>\n",
       "      <th>relationship</th>\n",
       "      <th>race</th>\n",
       "      <th>sex</th>\n",
       "      <th>native-country</th>\n",
       "      <th>age</th>\n",
       "      <th>hours-per-week</th>\n",
       "      <th>salary</th>\n",
       "      <th>workclass</th>\n",
       "    </tr>\n",
       "  </thead>\n",
       "  <tbody>\n",
       "    <tr>\n",
       "      <td>0</td>\n",
       "      <td>Adm-clerical</td>\n",
       "      <td>Bachelors</td>\n",
       "      <td>Never-married</td>\n",
       "      <td>Not-in-family</td>\n",
       "      <td>White</td>\n",
       "      <td>Male</td>\n",
       "      <td>United-States</td>\n",
       "      <td>0.301370</td>\n",
       "      <td>0.397959</td>\n",
       "      <td>&lt;=50K</td>\n",
       "      <td>stategov</td>\n",
       "    </tr>\n",
       "    <tr>\n",
       "      <td>1</td>\n",
       "      <td>Exec-managerial</td>\n",
       "      <td>Bachelors</td>\n",
       "      <td>Married-civ-spouse</td>\n",
       "      <td>Husband</td>\n",
       "      <td>White</td>\n",
       "      <td>Male</td>\n",
       "      <td>United-States</td>\n",
       "      <td>0.452055</td>\n",
       "      <td>0.122449</td>\n",
       "      <td>&lt;=50K</td>\n",
       "      <td>selfempnotinc</td>\n",
       "    </tr>\n",
       "    <tr>\n",
       "      <td>2</td>\n",
       "      <td>Handlers-cleaners</td>\n",
       "      <td>HS-grad</td>\n",
       "      <td>Divorced</td>\n",
       "      <td>Not-in-family</td>\n",
       "      <td>White</td>\n",
       "      <td>Male</td>\n",
       "      <td>United-States</td>\n",
       "      <td>0.287671</td>\n",
       "      <td>0.397959</td>\n",
       "      <td>&lt;=50K</td>\n",
       "      <td>private</td>\n",
       "    </tr>\n",
       "    <tr>\n",
       "      <td>3</td>\n",
       "      <td>Handlers-cleaners</td>\n",
       "      <td>11th</td>\n",
       "      <td>Married-civ-spouse</td>\n",
       "      <td>Husband</td>\n",
       "      <td>Black</td>\n",
       "      <td>Male</td>\n",
       "      <td>United-States</td>\n",
       "      <td>0.493151</td>\n",
       "      <td>0.397959</td>\n",
       "      <td>&lt;=50K</td>\n",
       "      <td>private</td>\n",
       "    </tr>\n",
       "    <tr>\n",
       "      <td>4</td>\n",
       "      <td>Prof-specialty</td>\n",
       "      <td>Bachelors</td>\n",
       "      <td>Married-civ-spouse</td>\n",
       "      <td>Wife</td>\n",
       "      <td>Black</td>\n",
       "      <td>Female</td>\n",
       "      <td>Cuba</td>\n",
       "      <td>0.150685</td>\n",
       "      <td>0.397959</td>\n",
       "      <td>&lt;=50K</td>\n",
       "      <td>private</td>\n",
       "    </tr>\n",
       "  </tbody>\n",
       "</table>\n",
       "</div>"
      ],
      "text/plain": [
       "          occupation  education      marital-status   relationship   race  \\\n",
       "0       Adm-clerical  Bachelors       Never-married  Not-in-family  White   \n",
       "1    Exec-managerial  Bachelors  Married-civ-spouse        Husband  White   \n",
       "2  Handlers-cleaners    HS-grad            Divorced  Not-in-family  White   \n",
       "3  Handlers-cleaners       11th  Married-civ-spouse        Husband  Black   \n",
       "4     Prof-specialty  Bachelors  Married-civ-spouse           Wife  Black   \n",
       "\n",
       "      sex native-country       age  hours-per-week salary      workclass  \n",
       "0    Male  United-States  0.301370        0.397959  <=50K       stategov  \n",
       "1    Male  United-States  0.452055        0.122449  <=50K  selfempnotinc  \n",
       "2    Male  United-States  0.287671        0.397959  <=50K        private  \n",
       "3    Male  United-States  0.493151        0.397959  <=50K        private  \n",
       "4  Female           Cuba  0.150685        0.397959  <=50K        private  "
      ]
     },
     "execution_count": 24,
     "metadata": {},
     "output_type": "execute_result"
    }
   ],
   "source": [
    "dataset.head()"
   ]
  },
  {
   "cell_type": "code",
   "execution_count": 193,
   "metadata": {},
   "outputs": [
    {
     "data": {
      "image/png": "[encoded data removed]",
      "text/plain": [
       "<Figure size 720x360 with 1 Axes>"
      ]
     },
     "metadata": {
      "needs_background": "light"
     },
     "output_type": "display_data"
    }
   ],
   "source": [
    "# Bar chart for PROCESSED WORKCLASS:\n",
    "from seaborn import countplot\n",
    "from matplotlib.pyplot import figure, show\n",
    "width=10\n",
    "height=5\n",
    "\n",
    "figure(figsize=(width,height))\n",
    "countplot(data=dataset,x=\"workclass\")\n",
    "show()"
   ]
  },
  {
   "cell_type": "code",
   "execution_count": 195,
   "metadata": {},
   "outputs": [
    {
     "data": {
      "image/png": "[encoded data removed]",
      "text/plain": [
       "<Figure size 1440x360 with 1 Axes>"
      ]
     },
     "metadata": {
      "needs_background": "light"
     },
     "output_type": "display_data"
    }
   ],
   "source": [
    "# Bar chart to understand Occupation Class's data:\n",
    "width=20\n",
    "height=5\n",
    "\n",
    "figure(figsize=(width,height))\n",
    "countplot(data=dataset,x=\"occupation\")\n",
    "show()"
   ]
  },
  {
   "cell_type": "code",
   "execution_count": 202,
   "metadata": {},
   "outputs": [
    {
     "data": {
      "image/png": "[encoded data removed]",
      "text/plain": [
       "<Figure size 360x360 with 1 Axes>"
      ]
     },
     "metadata": {
      "needs_background": "light"
     },
     "output_type": "display_data"
    }
   ],
   "source": [
    "# Bar chart to understand Salary Class's data:\n",
    "width=5\n",
    "height=5\n",
    "\n",
    "figure(figsize=(width,height))\n",
    "countplot(data=dataset,x=\"salary\")\n",
    "show()"
   ]
  },
  {
   "cell_type": "code",
   "execution_count": 25,
   "metadata": {},
   "outputs": [],
   "source": [
    "# Creating a new dataframe 'intds' to keep the original intact:\n",
    "intds = pd.DataFrame(dataset, columns=[\"occupation\",\"education\", \"marital-status\",\"race\",\"sex\", \"age\", \"hours-per-week\",\"workclass\",\"salary\"])"
   ]
  },
  {
   "cell_type": "code",
   "execution_count": 29,
   "metadata": {},
   "outputs": [
    {
     "data": {
      "text/html": [
       "<div>\n",
       "<style scoped>\n",
       "    .dataframe tbody tr th:only-of-type {\n",
       "        vertical-align: middle;\n",
       "    }\n",
       "\n",
       "    .dataframe tbody tr th {\n",
       "        vertical-align: top;\n",
       "    }\n",
       "\n",
       "    .dataframe thead th {\n",
       "        text-align: right;\n",
       "    }\n",
       "</style>\n",
       "<table border=\"1\" class=\"dataframe\">\n",
       "  <thead>\n",
       "    <tr style=\"text-align: right;\">\n",
       "      <th></th>\n",
       "      <th>occupation</th>\n",
       "      <th>education</th>\n",
       "      <th>marital-status</th>\n",
       "      <th>race</th>\n",
       "      <th>sex</th>\n",
       "      <th>age</th>\n",
       "      <th>hours-per-week</th>\n",
       "      <th>workclass</th>\n",
       "      <th>salary</th>\n",
       "    </tr>\n",
       "  </thead>\n",
       "  <tbody>\n",
       "    <tr>\n",
       "      <td>0</td>\n",
       "      <td>Adm-clerical</td>\n",
       "      <td>Bachelors</td>\n",
       "      <td>Never-married</td>\n",
       "      <td>White</td>\n",
       "      <td>Male</td>\n",
       "      <td>0.301370</td>\n",
       "      <td>0.397959</td>\n",
       "      <td>stategov</td>\n",
       "      <td>&lt;=50K</td>\n",
       "    </tr>\n",
       "    <tr>\n",
       "      <td>1</td>\n",
       "      <td>Exec-managerial</td>\n",
       "      <td>Bachelors</td>\n",
       "      <td>Married-civ-spouse</td>\n",
       "      <td>White</td>\n",
       "      <td>Male</td>\n",
       "      <td>0.452055</td>\n",
       "      <td>0.122449</td>\n",
       "      <td>selfempnotinc</td>\n",
       "      <td>&lt;=50K</td>\n",
       "    </tr>\n",
       "    <tr>\n",
       "      <td>2</td>\n",
       "      <td>Handlers-cleaners</td>\n",
       "      <td>HS-grad</td>\n",
       "      <td>Divorced</td>\n",
       "      <td>White</td>\n",
       "      <td>Male</td>\n",
       "      <td>0.287671</td>\n",
       "      <td>0.397959</td>\n",
       "      <td>private</td>\n",
       "      <td>&lt;=50K</td>\n",
       "    </tr>\n",
       "    <tr>\n",
       "      <td>3</td>\n",
       "      <td>Handlers-cleaners</td>\n",
       "      <td>11th</td>\n",
       "      <td>Married-civ-spouse</td>\n",
       "      <td>Black</td>\n",
       "      <td>Male</td>\n",
       "      <td>0.493151</td>\n",
       "      <td>0.397959</td>\n",
       "      <td>private</td>\n",
       "      <td>&lt;=50K</td>\n",
       "    </tr>\n",
       "    <tr>\n",
       "      <td>4</td>\n",
       "      <td>Prof-specialty</td>\n",
       "      <td>Bachelors</td>\n",
       "      <td>Married-civ-spouse</td>\n",
       "      <td>Black</td>\n",
       "      <td>Female</td>\n",
       "      <td>0.150685</td>\n",
       "      <td>0.397959</td>\n",
       "      <td>private</td>\n",
       "      <td>&lt;=50K</td>\n",
       "    </tr>\n",
       "  </tbody>\n",
       "</table>\n",
       "</div>"
      ],
      "text/plain": [
       "          occupation  education      marital-status   race     sex       age  \\\n",
       "0       Adm-clerical  Bachelors       Never-married  White    Male  0.301370   \n",
       "1    Exec-managerial  Bachelors  Married-civ-spouse  White    Male  0.452055   \n",
       "2  Handlers-cleaners    HS-grad            Divorced  White    Male  0.287671   \n",
       "3  Handlers-cleaners       11th  Married-civ-spouse  Black    Male  0.493151   \n",
       "4     Prof-specialty  Bachelors  Married-civ-spouse  Black  Female  0.150685   \n",
       "\n",
       "   hours-per-week      workclass salary  \n",
       "0        0.397959       stategov  <=50K  \n",
       "1        0.122449  selfempnotinc  <=50K  \n",
       "2        0.397959        private  <=50K  \n",
       "3        0.397959        private  <=50K  \n",
       "4        0.397959        private  <=50K  "
      ]
     },
     "execution_count": 29,
     "metadata": {},
     "output_type": "execute_result"
    }
   ],
   "source": [
    "intds.head()"
   ]
  },
  {
   "cell_type": "code",
   "execution_count": 30,
   "metadata": {},
   "outputs": [],
   "source": [
    "# These are my FEATURES:\n",
    "X = intds.iloc[:, :-1].values"
   ]
  },
  {
   "cell_type": "code",
   "execution_count": 31,
   "metadata": {},
   "outputs": [
    {
     "name": "stdout",
     "output_type": "stream",
     "text": [
      "[['Adm-clerical' 'Bachelors' 'Never-married' 'White' 'Male' 0.301369863\n",
      "  0.39795918399999997 'stategov']\n",
      " ['Exec-managerial' 'Bachelors' 'Married-civ-spouse' 'White' 'Male'\n",
      "  0.452054795 0.12244898 'selfempnotinc']]\n"
     ]
    }
   ],
   "source": [
    "print(X[0:2])"
   ]
  },
  {
   "cell_type": "code",
   "execution_count": 32,
   "metadata": {},
   "outputs": [],
   "source": [
    "# These is my LABEL:\n",
    "y = intds.iloc[:, 8].values"
   ]
  },
  {
   "cell_type": "code",
   "execution_count": 33,
   "metadata": {},
   "outputs": [
    {
     "name": "stdout",
     "output_type": "stream",
     "text": [
      "['<=50K' '<=50K' '<=50K' '<=50K' '<=50K' '<=50K' '<=50K' '>50K' '>50K'\n",
      " '>50K']\n"
     ]
    }
   ],
   "source": [
    "print(y[0:10])"
   ]
  },
  {
   "cell_type": "markdown",
   "metadata": {},
   "source": [
    "# Q1: ONE HOT VECTOR ENCODING FOR INDEPENDENT VARIABLES:"
   ]
  },
  {
   "cell_type": "code",
   "execution_count": 34,
   "metadata": {},
   "outputs": [],
   "source": [
    "from sklearn.compose import ColumnTransformer\n",
    "from sklearn.preprocessing import OneHotEncoder, LabelEncoder"
   ]
  },
  {
   "cell_type": "code",
   "execution_count": 35,
   "metadata": {},
   "outputs": [],
   "source": [
    "ct_new = ColumnTransformer(\n",
    "    [('oh_enc', OneHotEncoder(sparse=False), [0, 1, 2, 3, 4, 7]),],  # the column numbers I want to apply this to\n",
    "    remainder='passthrough'  # This leaves the rest of my columns in place\n",
    ")\n",
    "X_main = ct_new.fit_transform(X)"
   ]
  },
  {
   "cell_type": "raw",
   "metadata": {},
   "source": [
    "# Question 1 explanation: As coded above, I have separated my set of independent variables i.e. the Features from my dependent variable i.e. Label. The array 'X' comprises of all the features I have chosen to be used - Occupation, Education, Marital-status, race, sex, age, hours-per-week, workclass for the Machine learning classification model. And Y has the Label (which is Salary in our case). Since our Machine learning model can read numerical values only, so we need to convert all our categorical data to numerical format. I have used 'One-hot encoding' technique to encode my categorical data to number. I have also leveraged the ColumnTransformer() class's method to perform one-hot vector encoding in one step for all of my columns. However since I don't want to transform my 'age' and 'hours-per-week' so the remainder = 'passthrough' helps here. I haven't performed normalization for the numerical columns here as I already did it in my 1st assignment using MinMaxScaler() method. So they are already normalized. Finally the arrays 'X_main' and 'y_main' are my features and labels respectively with numerical encoding and are ready to be split into test and train data."
   ]
  },
  {
   "cell_type": "code",
   "execution_count": 36,
   "metadata": {},
   "outputs": [
    {
     "name": "stdout",
     "output_type": "stream",
     "text": [
      "[[1.0 0.0 0.0 0.0 0.0 0.0 0.0 0.0 0.0 0.0 0.0 0.0 0.0 0.0 0.0 0.0 0.0 0.0\n",
      "  0.0 0.0 0.0 0.0 0.0 1.0 0.0 0.0 0.0 0.0 0.0 0.0 0.0 0.0 0.0 0.0 1.0 0.0\n",
      "  0.0 0.0 0.0 0.0 0.0 1.0 0.0 1.0 0.0 0.0 0.0 0.0 0.0 1.0 0.0 0.301369863\n",
      "  0.39795918399999997]\n",
      " [0.0 0.0 0.0 1.0 0.0 0.0 0.0 0.0 0.0 0.0 0.0 0.0 0.0 0.0 0.0 0.0 0.0 0.0\n",
      "  0.0 0.0 0.0 0.0 0.0 1.0 0.0 0.0 0.0 0.0 0.0 0.0 0.0 0.0 1.0 0.0 0.0 0.0\n",
      "  0.0 0.0 0.0 0.0 0.0 1.0 0.0 1.0 0.0 0.0 0.0 0.0 1.0 0.0 0.0 0.452054795\n",
      "  0.12244898]]\n"
     ]
    }
   ],
   "source": [
    "print(X_main[0:2])"
   ]
  },
  {
   "cell_type": "code",
   "execution_count": 37,
   "metadata": {},
   "outputs": [
    {
     "data": {
      "text/plain": [
       "(30162, 53)"
      ]
     },
     "execution_count": 37,
     "metadata": {},
     "output_type": "execute_result"
    }
   ],
   "source": [
    "X_main.shape"
   ]
  },
  {
   "cell_type": "code",
   "execution_count": 38,
   "metadata": {},
   "outputs": [],
   "source": [
    "# LABEL ENCODING FOR SALARY:\n",
    "labelencoder_y = LabelEncoder()\n",
    "y_main = labelencoder_y.fit_transform(y)"
   ]
  },
  {
   "cell_type": "code",
   "execution_count": 39,
   "metadata": {},
   "outputs": [
    {
     "name": "stdout",
     "output_type": "stream",
     "text": [
      "[0 0 0 0 0 0 0 1 1 1]\n"
     ]
    }
   ],
   "source": [
    "print(y_main[0:10])"
   ]
  },
  {
   "cell_type": "markdown",
   "metadata": {},
   "source": [
    "# Q2:  Split dataset into Train and Test:"
   ]
  },
  {
   "cell_type": "code",
   "execution_count": 40,
   "metadata": {},
   "outputs": [],
   "source": [
    "# Used scikit learn's Model Selection library:\n",
    "from sklearn.model_selection import train_test_split\n",
    "X_train, X_test, y_train, y_test = train_test_split(X_main, y_main, test_size=0.20)"
   ]
  },
  {
   "cell_type": "code",
   "execution_count": 41,
   "metadata": {},
   "outputs": [
    {
     "data": {
      "text/plain": [
       "(24129, 53)"
      ]
     },
     "execution_count": 41,
     "metadata": {},
     "output_type": "execute_result"
    }
   ],
   "source": [
    "X_train.shape"
   ]
  },
  {
   "cell_type": "code",
   "execution_count": 42,
   "metadata": {},
   "outputs": [
    {
     "data": {
      "text/plain": [
       "(24129,)"
      ]
     },
     "execution_count": 42,
     "metadata": {},
     "output_type": "execute_result"
    }
   ],
   "source": [
    "y_train.shape"
   ]
  },
  {
   "cell_type": "code",
   "execution_count": 43,
   "metadata": {},
   "outputs": [
    {
     "data": {
      "text/plain": [
       "(6033, 53)"
      ]
     },
     "execution_count": 43,
     "metadata": {},
     "output_type": "execute_result"
    }
   ],
   "source": [
    "X_test.shape"
   ]
  },
  {
   "cell_type": "code",
   "execution_count": 44,
   "metadata": {},
   "outputs": [
    {
     "data": {
      "text/plain": [
       "(6033,)"
      ]
     },
     "execution_count": 44,
     "metadata": {},
     "output_type": "execute_result"
    }
   ],
   "source": [
    "y_test.shape"
   ]
  },
  {
   "cell_type": "markdown",
   "metadata": {},
   "source": [
    "# Q3: APPLYING LOGISTIC REGRESSION ON THE DATASET:"
   ]
  },
  {
   "cell_type": "code",
   "execution_count": 61,
   "metadata": {},
   "outputs": [
    {
     "data": {
      "text/plain": [
       "LogisticRegression(C=0.01, class_weight=None, dual=False, fit_intercept=True,\n",
       "                   intercept_scaling=1, l1_ratio=None, max_iter=100,\n",
       "                   multi_class='warn', n_jobs=None, penalty='l2',\n",
       "                   random_state=1, solver='warn', tol=0.0001, verbose=0,\n",
       "                   warm_start=False)"
      ]
     },
     "execution_count": 61,
     "metadata": {},
     "output_type": "execute_result"
    }
   ],
   "source": [
    "from sklearn.linear_model import LogisticRegression\n",
    "classifier_LR = LogisticRegression(random_state = 1, C=0.01)\n",
    "classifier_LR.fit(X_train, y_train)"
   ]
  },
  {
   "cell_type": "code",
   "execution_count": 62,
   "metadata": {},
   "outputs": [],
   "source": [
    "# Validation set\n",
    "y_pred_LR=classifier_LR.predict(X_test)"
   ]
  },
  {
   "cell_type": "code",
   "execution_count": 63,
   "metadata": {},
   "outputs": [],
   "source": [
    "# Training set\n",
    "y_pred_LR_train = classifier_LR.predict(X_train)"
   ]
  },
  {
   "cell_type": "code",
   "execution_count": 54,
   "metadata": {},
   "outputs": [
    {
     "name": "stdout",
     "output_type": "stream",
     "text": [
      "[0 0 0 ... 0 0 0]\n"
     ]
    }
   ],
   "source": [
    "print(y_pred_LR)"
   ]
  },
  {
   "cell_type": "code",
   "execution_count": 55,
   "metadata": {},
   "outputs": [
    {
     "name": "stdout",
     "output_type": "stream",
     "text": [
      "[0 0 0 ... 0 0 1]\n"
     ]
    }
   ],
   "source": [
    "print(y_pred_LR_train)"
   ]
  },
  {
   "cell_type": "markdown",
   "metadata": {},
   "source": [
    "# ACCURACY & F1 SCORE(Logistic Regression on Validation set):"
   ]
  },
  {
   "cell_type": "code",
   "execution_count": 64,
   "metadata": {},
   "outputs": [
    {
     "name": "stdout",
     "output_type": "stream",
     "text": [
      "Accuracy: 83.49080059671805\n",
      "Precision: 78.43279820872338\n",
      "Recall: 71.25378986031326\n",
      "f1_score: 73.68294456172315\n"
     ]
    }
   ],
   "source": [
    "# Model Accuracy, how accurate is the classifier\n",
    "from sklearn import metrics\n",
    "from sklearn.metrics import precision_score\n",
    "from sklearn.metrics import recall_score\n",
    "from sklearn.metrics import f1_score\n",
    "print(\"Accuracy:\",metrics.accuracy_score(y_test, y_pred_LR)*100)\n",
    "print(\"Precision:\" ,precision_score(y_test, y_pred_LR, average='macro')*100)\n",
    "print(\"Recall:\" , recall_score(y_test, y_pred_LR, average='macro')*100)\n",
    "print(\"f1_score:\" , f1_score(y_test, y_pred_LR, average='macro')*100)"
   ]
  },
  {
   "cell_type": "markdown",
   "metadata": {},
   "source": [
    "# ACCURACY & F1 SCORE(Logistic Regression on Training set):"
   ]
  },
  {
   "cell_type": "code",
   "execution_count": 65,
   "metadata": {},
   "outputs": [
    {
     "name": "stdout",
     "output_type": "stream",
     "text": [
      "Accuracy: 81.99676737535745\n",
      "Precision: 77.12537580174796\n",
      "Recall: 70.10233751408914\n",
      "f1_score: 72.35254576917076\n"
     ]
    }
   ],
   "source": [
    "from sklearn import metrics\n",
    "from sklearn.metrics import precision_score\n",
    "from sklearn.metrics import recall_score\n",
    "from sklearn.metrics import f1_score\n",
    "print(\"Accuracy:\",metrics.accuracy_score(y_train, y_pred_LR_train)*100)\n",
    "print(\"Precision:\" ,precision_score(y_train, y_pred_LR_train, average='macro')*100)\n",
    "print(\"Recall:\" , recall_score(y_train, y_pred_LR_train, average='macro')*100)\n",
    "print(\"f1_score:\" , f1_score(y_train, y_pred_LR_train, average='macro')*100)"
   ]
  },
  {
   "cell_type": "markdown",
   "metadata": {},
   "source": [
    "# APPLYING 'DECISION TREE' ON THE DATASET:"
   ]
  },
  {
   "cell_type": "code",
   "execution_count": 66,
   "metadata": {},
   "outputs": [
    {
     "data": {
      "text/plain": [
       "DecisionTreeClassifier(class_weight=None, criterion='entropy', max_depth=None,\n",
       "                       max_features=None, max_leaf_nodes=None,\n",
       "                       min_impurity_decrease=0.0, min_impurity_split=None,\n",
       "                       min_samples_leaf=1, min_samples_split=2,\n",
       "                       min_weight_fraction_leaf=0.0, presort=False,\n",
       "                       random_state=0, splitter='best')"
      ]
     },
     "execution_count": 66,
     "metadata": {},
     "output_type": "execute_result"
    }
   ],
   "source": [
    "from sklearn.tree import DecisionTreeClassifier\n",
    "classifier_DT = DecisionTreeClassifier(criterion='entropy', random_state = 0)\n",
    "classifier_DT.fit(X_train, y_train)"
   ]
  },
  {
   "cell_type": "code",
   "execution_count": 67,
   "metadata": {},
   "outputs": [],
   "source": [
    "#Validation set pred:\n",
    "y_pred_DT=classifier_DT.predict(X_test)"
   ]
  },
  {
   "cell_type": "code",
   "execution_count": 68,
   "metadata": {},
   "outputs": [],
   "source": [
    "#Training set pred:\n",
    "y_pred_DT_train = classifier_DT.predict(X_train)"
   ]
  },
  {
   "cell_type": "markdown",
   "metadata": {},
   "source": [
    "# ACCURACY & F1 SCORE(Decision Tree on Validation set):"
   ]
  },
  {
   "cell_type": "code",
   "execution_count": 69,
   "metadata": {},
   "outputs": [
    {
     "name": "stdout",
     "output_type": "stream",
     "text": [
      "Accuracy: 77.67279960218796\n",
      "Precision: 68.44754222839869\n",
      "Recall: 67.8932977914587\n",
      "f1_score: 68.15689558325857\n"
     ]
    }
   ],
   "source": [
    "print(\"Accuracy:\",metrics.accuracy_score(y_test, y_pred_DT)*100)\n",
    "print(\"Precision:\" ,precision_score(y_test, y_pred_DT, average='macro')*100)\n",
    "print(\"Recall:\" , recall_score(y_test, y_pred_DT, average='macro')*100)\n",
    "print(\"f1_score:\" , f1_score(y_test, y_pred_DT, average='macro')*100)"
   ]
  },
  {
   "cell_type": "markdown",
   "metadata": {},
   "source": [
    "# ACCURACY & F1 SCORE(Decision Tree on Training set):"
   ]
  },
  {
   "cell_type": "code",
   "execution_count": 70,
   "metadata": {},
   "outputs": [
    {
     "name": "stdout",
     "output_type": "stream",
     "text": [
      "Accuracy: 96.19544945915703\n",
      "Precision: 96.23744651094535\n",
      "Recall: 93.37893953438932\n",
      "f1_score: 94.7013081697009\n"
     ]
    }
   ],
   "source": [
    "print(\"Accuracy:\",metrics.accuracy_score(y_train, y_pred_DT_train)*100)\n",
    "print(\"Precision:\" ,precision_score(y_train, y_pred_DT_train, average='macro')*100)\n",
    "print(\"Recall:\" , recall_score(y_train, y_pred_DT_train, average='macro')*100)\n",
    "print(\"f1_score:\" , f1_score(y_train, y_pred_DT_train, average='macro')*100)"
   ]
  },
  {
   "cell_type": "markdown",
   "metadata": {},
   "source": [
    "# APPLYING RANDOM FOREST ON THE DATASET:"
   ]
  },
  {
   "cell_type": "code",
   "execution_count": 71,
   "metadata": {},
   "outputs": [
    {
     "data": {
      "text/plain": [
       "RandomForestClassifier(bootstrap=True, class_weight=None, criterion='entropy',\n",
       "                       max_depth=None, max_features='auto', max_leaf_nodes=None,\n",
       "                       min_impurity_decrease=0.0, min_impurity_split=None,\n",
       "                       min_samples_leaf=1, min_samples_split=2,\n",
       "                       min_weight_fraction_leaf=0.0, n_estimators=10,\n",
       "                       n_jobs=None, oob_score=False, random_state=0, verbose=0,\n",
       "                       warm_start=False)"
      ]
     },
     "execution_count": 71,
     "metadata": {},
     "output_type": "execute_result"
    }
   ],
   "source": [
    "from sklearn.ensemble import RandomForestClassifier\n",
    "classifier_RF = RandomForestClassifier(n_estimators = 10, criterion = 'entropy', random_state = 0)\n",
    "classifier_RF.fit(X_train, y_train)"
   ]
  },
  {
   "cell_type": "code",
   "execution_count": 72,
   "metadata": {},
   "outputs": [],
   "source": [
    "y_pred_RF= classifier_RF.predict(X_test)"
   ]
  },
  {
   "cell_type": "code",
   "execution_count": 73,
   "metadata": {},
   "outputs": [],
   "source": [
    "y_pred_RF_train = classifier_RF.predict(X_train)"
   ]
  },
  {
   "cell_type": "markdown",
   "metadata": {},
   "source": [
    "# ACCURACY & F1 SCORE(Random Forest on Validation set):"
   ]
  },
  {
   "cell_type": "code",
   "execution_count": 74,
   "metadata": {},
   "outputs": [
    {
     "name": "stdout",
     "output_type": "stream",
     "text": [
      "Accuracy: 80.77241836565557\n",
      "Precision: 72.90852387099103\n",
      "Recall: 71.16041369309187\n",
      "f1_score: 71.93825669044107\n"
     ]
    }
   ],
   "source": [
    "print(\"Accuracy:\",metrics.accuracy_score(y_test, y_pred_RF)*100)\n",
    "print(\"Precision:\" ,precision_score(y_test, y_pred_RF, average='macro')*100)\n",
    "print(\"Recall:\" , recall_score(y_test, y_pred_RF, average='macro')*100)\n",
    "print(\"f1_score:\" , f1_score(y_test, y_pred_RF, average='macro')*100)"
   ]
  },
  {
   "cell_type": "markdown",
   "metadata": {},
   "source": [
    "# ACCURACY & F1 SCORE(Random Forest on Training set):"
   ]
  },
  {
   "cell_type": "code",
   "execution_count": 75,
   "metadata": {},
   "outputs": [
    {
     "name": "stdout",
     "output_type": "stream",
     "text": [
      "Accuracy: 95.04330888142898\n",
      "Precision: 94.11404243035675\n",
      "Recall: 92.31339462244883\n",
      "f1_score: 93.16824243604185\n"
     ]
    }
   ],
   "source": [
    "print(\"Accuracy:\",metrics.accuracy_score(y_train, y_pred_RF_train)*100)\n",
    "print(\"Precision:\" ,precision_score(y_train, y_pred_RF_train, average='macro')*100)\n",
    "print(\"Recall:\" , recall_score(y_train, y_pred_RF_train, average='macro')*100)\n",
    "print(\"f1_score:\" , f1_score(y_train, y_pred_RF_train, average='macro')*100)"
   ]
  },
  {
   "cell_type": "markdown",
   "metadata": {},
   "source": [
    "# BAR CHART TO VISUALIZE THE F1- SCORE:"
   ]
  },
  {
   "cell_type": "code",
   "execution_count": 197,
   "metadata": {},
   "outputs": [
    {
     "data": {
      "image/png": "[encoded data removed]",
      "text/plain": [
       "<Figure size 720x360 with 1 Axes>"
      ]
     },
     "metadata": {
      "needs_background": "light"
     },
     "output_type": "display_data"
    }
   ],
   "source": [
    "import matplotlib.pyplot as plt\n",
    "import numpy as np\n",
    "\n",
    "\n",
    "#Validation set:\n",
    "accuracy_v = (80.8, 78.5, 82.1, 95.0, 96.2, 82.3)\n",
    "f1_score_v = (72.3, 70.1, 72.0, 93.0, 94.7, 72.4)\n",
    "\n",
    "\n",
    "\n",
    "fig, ax = plt.subplots(figsize=(10, 5))\n",
    "index = np.arange(6)\n",
    "bar_width = 0.25\n",
    "opacity = 0.8\n",
    "\n",
    "bar1 = plt.bar(index, accuracy_v, bar_width,\n",
    "alpha=opacity,\n",
    "color='orange',\n",
    "edgecolor='black',\n",
    "label='Accuracy')\n",
    "\n",
    "bar2 = plt.bar(index + bar_width, f1_score_v, bar_width,\n",
    "alpha=opacity,\n",
    "color='blue',\n",
    "edgecolor='black',\n",
    "label='f1-score')\n",
    "\n",
    "\n",
    "\n",
    "plt.xlabel('Algorithms')\n",
    "plt.ylabel('Scores(%)')\n",
    "plt.title('Scores by algorithm')\n",
    "plt.xticks(index + bar_width, ('RF_test', 'DT_test', 'LR_test', 'RF_train','DT_train','LR_train'))\n",
    "plt.legend(loc='lower right')\n",
    "\n",
    "def points_values(values):\n",
    "    for i in values:\n",
    "        height = i.get_height()\n",
    "        ax.annotate(format(height),\n",
    "                    xy=(i.get_x() + i.get_width() / 2, height),\n",
    "                    xytext=(0, 3),\n",
    "                    textcoords=\"offset points\",\n",
    "                   ha = 'center')\n",
    "\n",
    "\n",
    "points_values(bar1)\n",
    "points_values(bar2)\n",
    "\n",
    "\n",
    "plt.tight_layout()\n",
    "plt.show()\n",
    "\n",
    "\n",
    "# EXTERNAL REFERENCE: https://matplotlib.org/3.1.1/gallery/lines_bars_and_markers/barchart.html#sphx-glr-gallery-lines-bars-and-markers-barchart-py"
   ]
  },
  {
   "cell_type": "markdown",
   "metadata": {},
   "source": [
    "# Q4: CHANGING PARAMETER VALUE 'C' TO SEE HOW F1 VARIES for Logistic Regression:"
   ]
  },
  {
   "cell_type": "code",
   "execution_count": 204,
   "metadata": {},
   "outputs": [
    {
     "data": {
      "text/plain": [
       "LogisticRegression(C=0.001, class_weight=None, dual=False, fit_intercept=True,\n",
       "                   intercept_scaling=1, l1_ratio=None, max_iter=100,\n",
       "                   multi_class='warn', n_jobs=None, penalty='l2',\n",
       "                   random_state=1, solver='warn', tol=0.0001, verbose=0,\n",
       "                   warm_start=False)"
      ]
     },
     "execution_count": 204,
     "metadata": {},
     "output_type": "execute_result"
    }
   ],
   "source": [
    "from sklearn.linear_model import LogisticRegression\n",
    "classifier_CV = LogisticRegression(random_state = 1, C=0.001) #have used different values of C here: 0.001,0.005,0.01,0.05,0.1,1 \n",
    "classifier_CV.fit(X_train, y_train)"
   ]
  },
  {
   "cell_type": "code",
   "execution_count": null,
   "metadata": {},
   "outputs": [],
   "source": []
  },
  {
   "cell_type": "code",
   "execution_count": 205,
   "metadata": {},
   "outputs": [],
   "source": [
    "y_pred_CV=classifier_CV.predict(X_test)"
   ]
  },
  {
   "cell_type": "markdown",
   "metadata": {},
   "source": [
    "# F1-SCORE FOR CHANGED VALUES:"
   ]
  },
  {
   "cell_type": "code",
   "execution_count": 206,
   "metadata": {},
   "outputs": [
    {
     "name": "stdout",
     "output_type": "stream",
     "text": [
      "Accuracy: 80.04309630366319\n",
      "Precision: 75.94536133287707\n",
      "Recall: 60.20842764879506\n",
      "f1_score: 61.63464012767517\n"
     ]
    }
   ],
   "source": [
    "# Model Accuracy, how accurate is the classifier\n",
    "from sklearn import metrics\n",
    "from sklearn.metrics import precision_score\n",
    "from sklearn.metrics import recall_score\n",
    "from sklearn.metrics import f1_score\n",
    "print(\"Accuracy:\",metrics.accuracy_score(y_test, y_pred_CV)*100)\n",
    "print(\"Precision:\" ,precision_score(y_test, y_pred_CV, average='macro')*100)\n",
    "print(\"Recall:\" , recall_score(y_test, y_pred_CV, average='macro')*100)\n",
    "print(\"f1_score:\" , f1_score(y_test, y_pred_CV, average='macro')*100)"
   ]
  },
  {
   "cell_type": "markdown",
   "metadata": {},
   "source": [
    "# Q4: LINE CHART TO SHOW PARAMETERS Vs F1-SCORE:"
   ]
  },
  {
   "cell_type": "code",
   "execution_count": 187,
   "metadata": {},
   "outputs": [
    {
     "data": {
      "image/png": "[encoded data removed]",
      "text/plain": [
       "<Figure size 1440x648 with 1 Axes>"
      ]
     },
     "metadata": {
      "needs_background": "light"
     },
     "output_type": "display_data"
    }
   ],
   "source": [
    "import matplotlib.pyplot as plt\n",
    "#import numpy as np\n",
    "plt.figure(figsize=(20,9))\n",
    "parameter = [0.001, 0.005, 0.01, 0.05, 0.1, 1]\n",
    "f1_score = [61.63, 72.67, 73.68, 74.83, 75.11, 75.42]\n",
    "plt.plot(parameter, f1_score, color='green', linewidth=5)\n",
    "plt.xlabel('Parameters(C)')\n",
    "plt.ylabel('f1-score')\n",
    "plt.title('F1-score Vs Parameter')\n",
    "plt.show()"
   ]
  },
  {
   "cell_type": "markdown",
   "metadata": {},
   "source": [
    "# Q5: HYPER PARAMETER TUNING FOR LOGISTIC REGRESSION USING GRID SEARCH:"
   ]
  },
  {
   "cell_type": "code",
   "execution_count": 76,
   "metadata": {},
   "outputs": [
    {
     "name": "stdout",
     "output_type": "stream",
     "text": [
      "Fitting 5 folds for each of 15 candidates, totalling 75 fits\n"
     ]
    },
    {
     "name": "stderr",
     "output_type": "stream",
     "text": [
      "[Parallel(n_jobs=1)]: Using backend SequentialBackend with 1 concurrent workers.\n"
     ]
    },
    {
     "name": "stdout",
     "output_type": "stream",
     "text": [
      "Best Hyper parameter:  {'C': 1, 'penalty': 'l2'}\n",
      "Best Accuracy : 82.52%\n"
     ]
    },
    {
     "name": "stderr",
     "output_type": "stream",
     "text": [
      "[Parallel(n_jobs=1)]: Done  75 out of  75 | elapsed:   11.0s finished\n"
     ]
    }
   ],
   "source": [
    "from sklearn.linear_model import LogisticRegression\n",
    "from sklearn.model_selection import GridSearchCV\n",
    "\n",
    "lr = LogisticRegression(random_state=1)\n",
    "parameters = {'C':[1000,500,100,50,10,5,1,0.5,0.1,0.05,0.01,0.005,0.001,0.0005,0.0001],'penalty' :['l2']}\n",
    "\n",
    "\n",
    "gs = GridSearchCV(lr, parameters, cv=5, verbose = 1)\n",
    "gs.fit(X_train, y_train)\n",
    "\n",
    "\n",
    "print(\"Best Hyper parameter: \", gs.best_params_)\n",
    "print(\"Best Accuracy : %.2f%%\"%(gs.best_score_*100))"
   ]
  },
  {
   "cell_type": "markdown",
   "metadata": {},
   "source": [
    "# USING THE BEST PARAMS for getting the best F1-SCORE:"
   ]
  },
  {
   "cell_type": "code",
   "execution_count": 77,
   "metadata": {},
   "outputs": [
    {
     "data": {
      "text/plain": [
       "LogisticRegression(C=1, class_weight=None, dual=False, fit_intercept=True,\n",
       "                   intercept_scaling=1, l1_ratio=None, max_iter=100,\n",
       "                   multi_class='warn', n_jobs=None, penalty='l2',\n",
       "                   random_state=None, solver='warn', tol=0.0001, verbose=0,\n",
       "                   warm_start=False)"
      ]
     },
     "execution_count": 77,
     "metadata": {},
     "output_type": "execute_result"
    }
   ],
   "source": [
    "from sklearn.linear_model import LogisticRegression\n",
    "classifier_BP = LogisticRegression(C = 1, penalty = 'l2')\n",
    "classifier_BP.fit(X_train, y_train)"
   ]
  },
  {
   "cell_type": "code",
   "execution_count": 78,
   "metadata": {},
   "outputs": [],
   "source": [
    "y_pred_LR_after_HT= classifier_BP.predict(X_test)"
   ]
  },
  {
   "cell_type": "code",
   "execution_count": 79,
   "metadata": {},
   "outputs": [
    {
     "name": "stdout",
     "output_type": "stream",
     "text": [
      "Accuracy: 83.77258412066965\n",
      "Precision: 77.93915014102527\n",
      "Recall: 73.73767311069017\n",
      "f1_score : 75.42605351158463\n"
     ]
    }
   ],
   "source": [
    "# Model Accuracy, how accurate is the classifier\n",
    "print(\"Accuracy:\",metrics.accuracy_score(y_test, y_pred_LR_after_HT)*100)\n",
    "print(\"Precision:\" ,precision_score(y_test, y_pred_LR_after_HT, average='macro')*100)\n",
    "print(\"Recall:\" , recall_score(y_test, y_pred_LR_after_HT, average='macro')*100)\n",
    "print(\"f1_score :\" , f1_score(y_test, y_pred_LR_after_HT, average='macro')*100)"
   ]
  },
  {
   "cell_type": "raw",
   "metadata": {},
   "source": [
    "Ans to Q5: I have chosen Logistic Regression as the best classification algorithm for predicting the new dataset provided. The reason behind selecting Logistic regression as the best classifier is not only because it shows us a very good Accuracy of 83.49% on our validation set but I have also used a combination of accuracy, precision and recall and finally F-1 score to evaluate the quality of my classifiers. The idea behind having a combination is to not judge a model by its accuracy only because although the accuracy can be high at times, it do not necessarily mean the predictive power will be higher. We need to consider how much percent did our classifier predicted right out of the total number, which is precision and finally a harmonic mean(f1-score) is what is important. The best f1-score I was able to achieve was 75.42%. The Logistic regression algorithm I executed initially gave me a f1_score of 73.68%. I then did Hyper parameter tuning using Grid search algorithm and found out the best parameter for my classification algorithm. My Best Hyper parameter was this: {'C': 1, 'penalty': 'l2'}. So I used the best parameters above and executed the Logistic regression algorithm to increase f1-score from 73.68% to 75.42%. In order to achieve a higher f1-score I also worked on pre-processing of my dataset as coded in the beginning of the Notebook. My 'occupation' & 'workclass' column had many typos which needed to be fixed to be used for my model as important features. "
   ]
  },
  {
   "cell_type": "markdown",
   "metadata": {},
   "source": [
    "# READ THE NEW CSV FILE TO PREDICT 'SALARY':"
   ]
  },
  {
   "cell_type": "code",
   "execution_count": 80,
   "metadata": {},
   "outputs": [],
   "source": [
    "new_ds = pd.read_csv(\"dataset1_test.csv\")"
   ]
  },
  {
   "cell_type": "code",
   "execution_count": 81,
   "metadata": {},
   "outputs": [
    {
     "data": {
      "text/html": [
       "<div>\n",
       "<style scoped>\n",
       "    .dataframe tbody tr th:only-of-type {\n",
       "        vertical-align: middle;\n",
       "    }\n",
       "\n",
       "    .dataframe tbody tr th {\n",
       "        vertical-align: top;\n",
       "    }\n",
       "\n",
       "    .dataframe thead th {\n",
       "        text-align: right;\n",
       "    }\n",
       "</style>\n",
       "<table border=\"1\" class=\"dataframe\">\n",
       "  <thead>\n",
       "    <tr style=\"text-align: right;\">\n",
       "      <th></th>\n",
       "      <th>age</th>\n",
       "      <th>workclass</th>\n",
       "      <th>fnlwgt</th>\n",
       "      <th>education</th>\n",
       "      <th>education-num</th>\n",
       "      <th>marital-status</th>\n",
       "      <th>occupation</th>\n",
       "      <th>relationship</th>\n",
       "      <th>race</th>\n",
       "      <th>sex</th>\n",
       "      <th>capital-gain</th>\n",
       "      <th>capital-loss</th>\n",
       "      <th>hours-per-week</th>\n",
       "      <th>native-country</th>\n",
       "    </tr>\n",
       "  </thead>\n",
       "  <tbody>\n",
       "    <tr>\n",
       "      <td>0</td>\n",
       "      <td>17</td>\n",
       "      <td>Private</td>\n",
       "      <td>269430</td>\n",
       "      <td>10th</td>\n",
       "      <td>6</td>\n",
       "      <td>Never-married</td>\n",
       "      <td>Machine-op-inspct</td>\n",
       "      <td>Not-in-family</td>\n",
       "      <td>White</td>\n",
       "      <td>Male</td>\n",
       "      <td>0</td>\n",
       "      <td>0</td>\n",
       "      <td>40</td>\n",
       "      <td>United-States</td>\n",
       "    </tr>\n",
       "    <tr>\n",
       "      <td>1</td>\n",
       "      <td>17</td>\n",
       "      <td>Private</td>\n",
       "      <td>40299</td>\n",
       "      <td>11th</td>\n",
       "      <td>7</td>\n",
       "      <td>Never-married</td>\n",
       "      <td>Sales</td>\n",
       "      <td>Own-child</td>\n",
       "      <td>White</td>\n",
       "      <td>Female</td>\n",
       "      <td>0</td>\n",
       "      <td>0</td>\n",
       "      <td>25</td>\n",
       "      <td>United-States</td>\n",
       "    </tr>\n",
       "    <tr>\n",
       "      <td>2</td>\n",
       "      <td>17</td>\n",
       "      <td>Private</td>\n",
       "      <td>190941</td>\n",
       "      <td>10th</td>\n",
       "      <td>6</td>\n",
       "      <td>Never-married</td>\n",
       "      <td>Sales</td>\n",
       "      <td>Own-child</td>\n",
       "      <td>White</td>\n",
       "      <td>Female</td>\n",
       "      <td>0</td>\n",
       "      <td>0</td>\n",
       "      <td>20</td>\n",
       "      <td>United-States</td>\n",
       "    </tr>\n",
       "    <tr>\n",
       "      <td>3</td>\n",
       "      <td>17</td>\n",
       "      <td>Private</td>\n",
       "      <td>61838</td>\n",
       "      <td>11th</td>\n",
       "      <td>7</td>\n",
       "      <td>Never-married</td>\n",
       "      <td>Farming-fishing</td>\n",
       "      <td>Own-child</td>\n",
       "      <td>White</td>\n",
       "      <td>Male</td>\n",
       "      <td>0</td>\n",
       "      <td>0</td>\n",
       "      <td>40</td>\n",
       "      <td>United-States</td>\n",
       "    </tr>\n",
       "    <tr>\n",
       "      <td>4</td>\n",
       "      <td>17</td>\n",
       "      <td>Private</td>\n",
       "      <td>28544</td>\n",
       "      <td>11th</td>\n",
       "      <td>7</td>\n",
       "      <td>Never-married</td>\n",
       "      <td>Sales</td>\n",
       "      <td>Not-in-family</td>\n",
       "      <td>White</td>\n",
       "      <td>Female</td>\n",
       "      <td>0</td>\n",
       "      <td>0</td>\n",
       "      <td>20</td>\n",
       "      <td>United-States</td>\n",
       "    </tr>\n",
       "  </tbody>\n",
       "</table>\n",
       "</div>"
      ],
      "text/plain": [
       "   age workclass  fnlwgt education  education-num marital-status  \\\n",
       "0   17   Private  269430      10th              6  Never-married   \n",
       "1   17   Private   40299      11th              7  Never-married   \n",
       "2   17   Private  190941      10th              6  Never-married   \n",
       "3   17   Private   61838      11th              7  Never-married   \n",
       "4   17   Private   28544      11th              7  Never-married   \n",
       "\n",
       "          occupation   relationship   race     sex  capital-gain  \\\n",
       "0  Machine-op-inspct  Not-in-family  White    Male             0   \n",
       "1              Sales      Own-child  White  Female             0   \n",
       "2              Sales      Own-child  White  Female             0   \n",
       "3    Farming-fishing      Own-child  White    Male             0   \n",
       "4              Sales  Not-in-family  White  Female             0   \n",
       "\n",
       "   capital-loss  hours-per-week native-country  \n",
       "0             0              40  United-States  \n",
       "1             0              25  United-States  \n",
       "2             0              20  United-States  \n",
       "3             0              40  United-States  \n",
       "4             0              20  United-States  "
      ]
     },
     "execution_count": 81,
     "metadata": {},
     "output_type": "execute_result"
    }
   ],
   "source": [
    "new_ds.head()"
   ]
  },
  {
   "cell_type": "code",
   "execution_count": 82,
   "metadata": {},
   "outputs": [],
   "source": [
    "new_ds_pr = pd.DataFrame(new_ds, columns=[\"occupation\",\"education\", \"marital-status\",\"race\",\"sex\", \"age\", \"hours-per-week\",\"workclass\"])"
   ]
  },
  {
   "cell_type": "code",
   "execution_count": 83,
   "metadata": {},
   "outputs": [
    {
     "data": {
      "text/html": [
       "<div>\n",
       "<style scoped>\n",
       "    .dataframe tbody tr th:only-of-type {\n",
       "        vertical-align: middle;\n",
       "    }\n",
       "\n",
       "    .dataframe tbody tr th {\n",
       "        vertical-align: top;\n",
       "    }\n",
       "\n",
       "    .dataframe thead th {\n",
       "        text-align: right;\n",
       "    }\n",
       "</style>\n",
       "<table border=\"1\" class=\"dataframe\">\n",
       "  <thead>\n",
       "    <tr style=\"text-align: right;\">\n",
       "      <th></th>\n",
       "      <th>occupation</th>\n",
       "      <th>education</th>\n",
       "      <th>marital-status</th>\n",
       "      <th>race</th>\n",
       "      <th>sex</th>\n",
       "      <th>age</th>\n",
       "      <th>hours-per-week</th>\n",
       "      <th>workclass</th>\n",
       "    </tr>\n",
       "  </thead>\n",
       "  <tbody>\n",
       "    <tr>\n",
       "      <td>0</td>\n",
       "      <td>Machine-op-inspct</td>\n",
       "      <td>10th</td>\n",
       "      <td>Never-married</td>\n",
       "      <td>White</td>\n",
       "      <td>Male</td>\n",
       "      <td>17</td>\n",
       "      <td>40</td>\n",
       "      <td>Private</td>\n",
       "    </tr>\n",
       "    <tr>\n",
       "      <td>1</td>\n",
       "      <td>Sales</td>\n",
       "      <td>11th</td>\n",
       "      <td>Never-married</td>\n",
       "      <td>White</td>\n",
       "      <td>Female</td>\n",
       "      <td>17</td>\n",
       "      <td>25</td>\n",
       "      <td>Private</td>\n",
       "    </tr>\n",
       "    <tr>\n",
       "      <td>2</td>\n",
       "      <td>Sales</td>\n",
       "      <td>10th</td>\n",
       "      <td>Never-married</td>\n",
       "      <td>White</td>\n",
       "      <td>Female</td>\n",
       "      <td>17</td>\n",
       "      <td>20</td>\n",
       "      <td>Private</td>\n",
       "    </tr>\n",
       "    <tr>\n",
       "      <td>3</td>\n",
       "      <td>Farming-fishing</td>\n",
       "      <td>11th</td>\n",
       "      <td>Never-married</td>\n",
       "      <td>White</td>\n",
       "      <td>Male</td>\n",
       "      <td>17</td>\n",
       "      <td>40</td>\n",
       "      <td>Private</td>\n",
       "    </tr>\n",
       "    <tr>\n",
       "      <td>4</td>\n",
       "      <td>Sales</td>\n",
       "      <td>11th</td>\n",
       "      <td>Never-married</td>\n",
       "      <td>White</td>\n",
       "      <td>Female</td>\n",
       "      <td>17</td>\n",
       "      <td>20</td>\n",
       "      <td>Private</td>\n",
       "    </tr>\n",
       "  </tbody>\n",
       "</table>\n",
       "</div>"
      ],
      "text/plain": [
       "          occupation education marital-status   race     sex  age  \\\n",
       "0  Machine-op-inspct      10th  Never-married  White    Male   17   \n",
       "1              Sales      11th  Never-married  White  Female   17   \n",
       "2              Sales      10th  Never-married  White  Female   17   \n",
       "3    Farming-fishing      11th  Never-married  White    Male   17   \n",
       "4              Sales      11th  Never-married  White  Female   17   \n",
       "\n",
       "   hours-per-week workclass  \n",
       "0              40   Private  \n",
       "1              25   Private  \n",
       "2              20   Private  \n",
       "3              40   Private  \n",
       "4              20   Private  "
      ]
     },
     "execution_count": 83,
     "metadata": {},
     "output_type": "execute_result"
    }
   ],
   "source": [
    "new_ds_pr.head()"
   ]
  },
  {
   "cell_type": "code",
   "execution_count": 84,
   "metadata": {},
   "outputs": [],
   "source": [
    "#NORMALIZE THE COLUMNS: Age\n",
    "n = new_ds_pr['age'].values"
   ]
  },
  {
   "cell_type": "code",
   "execution_count": 85,
   "metadata": {},
   "outputs": [
    {
     "name": "stdout",
     "output_type": "stream",
     "text": [
      "28\n"
     ]
    }
   ],
   "source": [
    "print(n[3574])"
   ]
  },
  {
   "cell_type": "code",
   "execution_count": 86,
   "metadata": {},
   "outputs": [],
   "source": [
    "# Using MinaxScaler for getting AGE DATA in range 0-1:\n",
    "import numpy\n",
    "from sklearn import preprocessing\n",
    "min_max_scaler = preprocessing.MinMaxScaler()\n",
    "transarr = n.reshape(-1,1)\n",
    "x_scaled = min_max_scaler.fit_transform(transarr)"
   ]
  },
  {
   "cell_type": "code",
   "execution_count": 87,
   "metadata": {},
   "outputs": [
    {
     "name": "stdout",
     "output_type": "stream",
     "text": [
      "[0.16438356]\n"
     ]
    }
   ],
   "source": [
    "print(x_scaled[4082])"
   ]
  },
  {
   "cell_type": "code",
   "execution_count": 88,
   "metadata": {},
   "outputs": [],
   "source": [
    "new_ds_pr['agen']= x_scaled"
   ]
  },
  {
   "cell_type": "code",
   "execution_count": 89,
   "metadata": {},
   "outputs": [
    {
     "data": {
      "text/html": [
       "<div>\n",
       "<style scoped>\n",
       "    .dataframe tbody tr th:only-of-type {\n",
       "        vertical-align: middle;\n",
       "    }\n",
       "\n",
       "    .dataframe tbody tr th {\n",
       "        vertical-align: top;\n",
       "    }\n",
       "\n",
       "    .dataframe thead th {\n",
       "        text-align: right;\n",
       "    }\n",
       "</style>\n",
       "<table border=\"1\" class=\"dataframe\">\n",
       "  <thead>\n",
       "    <tr style=\"text-align: right;\">\n",
       "      <th></th>\n",
       "      <th>occupation</th>\n",
       "      <th>education</th>\n",
       "      <th>marital-status</th>\n",
       "      <th>race</th>\n",
       "      <th>sex</th>\n",
       "      <th>age</th>\n",
       "      <th>hours-per-week</th>\n",
       "      <th>workclass</th>\n",
       "      <th>agen</th>\n",
       "    </tr>\n",
       "  </thead>\n",
       "  <tbody>\n",
       "    <tr>\n",
       "      <td>0</td>\n",
       "      <td>Machine-op-inspct</td>\n",
       "      <td>10th</td>\n",
       "      <td>Never-married</td>\n",
       "      <td>White</td>\n",
       "      <td>Male</td>\n",
       "      <td>17</td>\n",
       "      <td>40</td>\n",
       "      <td>Private</td>\n",
       "      <td>0.000000</td>\n",
       "    </tr>\n",
       "    <tr>\n",
       "      <td>1</td>\n",
       "      <td>Sales</td>\n",
       "      <td>11th</td>\n",
       "      <td>Never-married</td>\n",
       "      <td>White</td>\n",
       "      <td>Female</td>\n",
       "      <td>17</td>\n",
       "      <td>25</td>\n",
       "      <td>Private</td>\n",
       "      <td>0.000000</td>\n",
       "    </tr>\n",
       "    <tr>\n",
       "      <td>2</td>\n",
       "      <td>Sales</td>\n",
       "      <td>10th</td>\n",
       "      <td>Never-married</td>\n",
       "      <td>White</td>\n",
       "      <td>Female</td>\n",
       "      <td>17</td>\n",
       "      <td>20</td>\n",
       "      <td>Private</td>\n",
       "      <td>0.000000</td>\n",
       "    </tr>\n",
       "    <tr>\n",
       "      <td>3</td>\n",
       "      <td>Farming-fishing</td>\n",
       "      <td>11th</td>\n",
       "      <td>Never-married</td>\n",
       "      <td>White</td>\n",
       "      <td>Male</td>\n",
       "      <td>17</td>\n",
       "      <td>40</td>\n",
       "      <td>Private</td>\n",
       "      <td>0.000000</td>\n",
       "    </tr>\n",
       "    <tr>\n",
       "      <td>4</td>\n",
       "      <td>Sales</td>\n",
       "      <td>11th</td>\n",
       "      <td>Never-married</td>\n",
       "      <td>White</td>\n",
       "      <td>Female</td>\n",
       "      <td>17</td>\n",
       "      <td>20</td>\n",
       "      <td>Private</td>\n",
       "      <td>0.000000</td>\n",
       "    </tr>\n",
       "    <tr>\n",
       "      <td>...</td>\n",
       "      <td>...</td>\n",
       "      <td>...</td>\n",
       "      <td>...</td>\n",
       "      <td>...</td>\n",
       "      <td>...</td>\n",
       "      <td>...</td>\n",
       "      <td>...</td>\n",
       "      <td>...</td>\n",
       "      <td>...</td>\n",
       "    </tr>\n",
       "    <tr>\n",
       "      <td>3570</td>\n",
       "      <td>Sales</td>\n",
       "      <td>Some-college</td>\n",
       "      <td>Never-married</td>\n",
       "      <td>White</td>\n",
       "      <td>Female</td>\n",
       "      <td>28</td>\n",
       "      <td>40</td>\n",
       "      <td>Private</td>\n",
       "      <td>0.150685</td>\n",
       "    </tr>\n",
       "    <tr>\n",
       "      <td>3571</td>\n",
       "      <td>Exec-managerial</td>\n",
       "      <td>Some-college</td>\n",
       "      <td>Never-married</td>\n",
       "      <td>White</td>\n",
       "      <td>Male</td>\n",
       "      <td>28</td>\n",
       "      <td>60</td>\n",
       "      <td>Private</td>\n",
       "      <td>0.150685</td>\n",
       "    </tr>\n",
       "    <tr>\n",
       "      <td>3572</td>\n",
       "      <td>Exec-managerial</td>\n",
       "      <td>Assoc-voc</td>\n",
       "      <td>Never-married</td>\n",
       "      <td>White</td>\n",
       "      <td>Female</td>\n",
       "      <td>28</td>\n",
       "      <td>23</td>\n",
       "      <td>Private</td>\n",
       "      <td>0.150685</td>\n",
       "    </tr>\n",
       "    <tr>\n",
       "      <td>3573</td>\n",
       "      <td>Craft-repair</td>\n",
       "      <td>Some-college</td>\n",
       "      <td>Separated</td>\n",
       "      <td>White</td>\n",
       "      <td>Male</td>\n",
       "      <td>28</td>\n",
       "      <td>50</td>\n",
       "      <td>Private</td>\n",
       "      <td>0.150685</td>\n",
       "    </tr>\n",
       "    <tr>\n",
       "      <td>3574</td>\n",
       "      <td>Exec-managerial</td>\n",
       "      <td>Bachelors</td>\n",
       "      <td>Never-married</td>\n",
       "      <td>White</td>\n",
       "      <td>Male</td>\n",
       "      <td>28</td>\n",
       "      <td>60</td>\n",
       "      <td>Self-emp-inc</td>\n",
       "      <td>0.150685</td>\n",
       "    </tr>\n",
       "  </tbody>\n",
       "</table>\n",
       "<p>3575 rows × 9 columns</p>\n",
       "</div>"
      ],
      "text/plain": [
       "             occupation     education marital-status   race     sex  age  \\\n",
       "0     Machine-op-inspct          10th  Never-married  White    Male   17   \n",
       "1                 Sales          11th  Never-married  White  Female   17   \n",
       "2                 Sales          10th  Never-married  White  Female   17   \n",
       "3       Farming-fishing          11th  Never-married  White    Male   17   \n",
       "4                 Sales          11th  Never-married  White  Female   17   \n",
       "...                 ...           ...            ...    ...     ...  ...   \n",
       "3570              Sales  Some-college  Never-married  White  Female   28   \n",
       "3571    Exec-managerial  Some-college  Never-married  White    Male   28   \n",
       "3572    Exec-managerial     Assoc-voc  Never-married  White  Female   28   \n",
       "3573       Craft-repair  Some-college      Separated  White    Male   28   \n",
       "3574    Exec-managerial     Bachelors  Never-married  White    Male   28   \n",
       "\n",
       "      hours-per-week     workclass      agen  \n",
       "0                 40       Private  0.000000  \n",
       "1                 25       Private  0.000000  \n",
       "2                 20       Private  0.000000  \n",
       "3                 40       Private  0.000000  \n",
       "4                 20       Private  0.000000  \n",
       "...              ...           ...       ...  \n",
       "3570              40       Private  0.150685  \n",
       "3571              60       Private  0.150685  \n",
       "3572              23       Private  0.150685  \n",
       "3573              50       Private  0.150685  \n",
       "3574              60  Self-emp-inc  0.150685  \n",
       "\n",
       "[3575 rows x 9 columns]"
      ]
     },
     "execution_count": 89,
     "metadata": {},
     "output_type": "execute_result"
    }
   ],
   "source": [
    "new_ds_pr.head(3575)"
   ]
  },
  {
   "cell_type": "code",
   "execution_count": 90,
   "metadata": {},
   "outputs": [],
   "source": [
    "#DROP COLUMN:\n",
    "new_ds_pr = new_ds_pr.drop('age', 1)"
   ]
  },
  {
   "cell_type": "code",
   "execution_count": 91,
   "metadata": {},
   "outputs": [],
   "source": [
    "#RENAME:\n",
    "new_ds_pr = new_ds_pr.rename(columns={'agen':'age'})"
   ]
  },
  {
   "cell_type": "code",
   "execution_count": 92,
   "metadata": {},
   "outputs": [],
   "source": [
    "#NORMALIZE THE COLUMNS: hours\n",
    "m = new_ds_pr['hours-per-week'].values"
   ]
  },
  {
   "cell_type": "code",
   "execution_count": 93,
   "metadata": {},
   "outputs": [],
   "source": [
    "import numpy\n",
    "from sklearn import preprocessing\n",
    "min_max_scaler = preprocessing.MinMaxScaler()\n",
    "transarrs = m.reshape(-1,1)\n",
    "x_scaled_new = min_max_scaler.fit_transform(transarrs)"
   ]
  },
  {
   "cell_type": "code",
   "execution_count": 94,
   "metadata": {},
   "outputs": [],
   "source": [
    "new_ds_pr['hrs']= x_scaled_new"
   ]
  },
  {
   "cell_type": "code",
   "execution_count": 95,
   "metadata": {},
   "outputs": [],
   "source": [
    "#DROP COLUMN:\n",
    "new_ds_pr = new_ds_pr.drop('hours-per-week', 1)"
   ]
  },
  {
   "cell_type": "code",
   "execution_count": 96,
   "metadata": {},
   "outputs": [],
   "source": [
    "# RENAME:\n",
    "new_ds_pr = new_ds_pr.rename(columns={'hrs':'hours-per-week'})"
   ]
  },
  {
   "cell_type": "code",
   "execution_count": 97,
   "metadata": {},
   "outputs": [
    {
     "data": {
      "text/html": [
       "<div>\n",
       "<style scoped>\n",
       "    .dataframe tbody tr th:only-of-type {\n",
       "        vertical-align: middle;\n",
       "    }\n",
       "\n",
       "    .dataframe tbody tr th {\n",
       "        vertical-align: top;\n",
       "    }\n",
       "\n",
       "    .dataframe thead th {\n",
       "        text-align: right;\n",
       "    }\n",
       "</style>\n",
       "<table border=\"1\" class=\"dataframe\">\n",
       "  <thead>\n",
       "    <tr style=\"text-align: right;\">\n",
       "      <th></th>\n",
       "      <th>occupation</th>\n",
       "      <th>education</th>\n",
       "      <th>marital-status</th>\n",
       "      <th>race</th>\n",
       "      <th>sex</th>\n",
       "      <th>workclass</th>\n",
       "      <th>age</th>\n",
       "      <th>hours-per-week</th>\n",
       "    </tr>\n",
       "  </thead>\n",
       "  <tbody>\n",
       "    <tr>\n",
       "      <td>0</td>\n",
       "      <td>Machine-op-inspct</td>\n",
       "      <td>10th</td>\n",
       "      <td>Never-married</td>\n",
       "      <td>White</td>\n",
       "      <td>Male</td>\n",
       "      <td>Private</td>\n",
       "      <td>0.0</td>\n",
       "      <td>0.397959</td>\n",
       "    </tr>\n",
       "    <tr>\n",
       "      <td>1</td>\n",
       "      <td>Sales</td>\n",
       "      <td>11th</td>\n",
       "      <td>Never-married</td>\n",
       "      <td>White</td>\n",
       "      <td>Female</td>\n",
       "      <td>Private</td>\n",
       "      <td>0.0</td>\n",
       "      <td>0.244898</td>\n",
       "    </tr>\n",
       "    <tr>\n",
       "      <td>2</td>\n",
       "      <td>Sales</td>\n",
       "      <td>10th</td>\n",
       "      <td>Never-married</td>\n",
       "      <td>White</td>\n",
       "      <td>Female</td>\n",
       "      <td>Private</td>\n",
       "      <td>0.0</td>\n",
       "      <td>0.193878</td>\n",
       "    </tr>\n",
       "    <tr>\n",
       "      <td>3</td>\n",
       "      <td>Farming-fishing</td>\n",
       "      <td>11th</td>\n",
       "      <td>Never-married</td>\n",
       "      <td>White</td>\n",
       "      <td>Male</td>\n",
       "      <td>Private</td>\n",
       "      <td>0.0</td>\n",
       "      <td>0.397959</td>\n",
       "    </tr>\n",
       "    <tr>\n",
       "      <td>4</td>\n",
       "      <td>Sales</td>\n",
       "      <td>11th</td>\n",
       "      <td>Never-married</td>\n",
       "      <td>White</td>\n",
       "      <td>Female</td>\n",
       "      <td>Private</td>\n",
       "      <td>0.0</td>\n",
       "      <td>0.193878</td>\n",
       "    </tr>\n",
       "  </tbody>\n",
       "</table>\n",
       "</div>"
      ],
      "text/plain": [
       "          occupation education marital-status   race     sex workclass  age  \\\n",
       "0  Machine-op-inspct      10th  Never-married  White    Male   Private  0.0   \n",
       "1              Sales      11th  Never-married  White  Female   Private  0.0   \n",
       "2              Sales      10th  Never-married  White  Female   Private  0.0   \n",
       "3    Farming-fishing      11th  Never-married  White    Male   Private  0.0   \n",
       "4              Sales      11th  Never-married  White  Female   Private  0.0   \n",
       "\n",
       "   hours-per-week  \n",
       "0        0.397959  \n",
       "1        0.244898  \n",
       "2        0.193878  \n",
       "3        0.397959  \n",
       "4        0.193878  "
      ]
     },
     "execution_count": 97,
     "metadata": {},
     "output_type": "execute_result"
    }
   ],
   "source": [
    "new_ds_pr.head()"
   ]
  },
  {
   "cell_type": "code",
   "execution_count": 98,
   "metadata": {},
   "outputs": [],
   "source": [
    "X_new = new_ds_pr.iloc[:, 0:8].values"
   ]
  },
  {
   "cell_type": "code",
   "execution_count": 99,
   "metadata": {},
   "outputs": [
    {
     "name": "stdout",
     "output_type": "stream",
     "text": [
      "['Machine-op-inspct' '10th' 'Never-married' 'White' 'Male' 'Private' 0.0\n",
      " 0.39795918367346933]\n"
     ]
    }
   ],
   "source": [
    "print(X_new[0])"
   ]
  },
  {
   "cell_type": "code",
   "execution_count": 100,
   "metadata": {},
   "outputs": [],
   "source": [
    "ct_pr = ColumnTransformer(\n",
    "    [('oh_enc', OneHotEncoder(sparse=False), [0, 1, 2, 3, 4, 5]),],  # the column numbers I want to apply this to\n",
    "    remainder='passthrough'  # This leaves the rest of my columns in place\n",
    ")\n",
    "X_main_new = ct_pr.fit_transform(X_new)"
   ]
  },
  {
   "cell_type": "code",
   "execution_count": 101,
   "metadata": {},
   "outputs": [
    {
     "data": {
      "text/plain": [
       "(15060, 53)"
      ]
     },
     "execution_count": 101,
     "metadata": {},
     "output_type": "execute_result"
    }
   ],
   "source": [
    "X_main_new.shape"
   ]
  },
  {
   "cell_type": "code",
   "execution_count": 102,
   "metadata": {},
   "outputs": [
    {
     "name": "stdout",
     "output_type": "stream",
     "text": [
      "[0.0 0.0 0.0 0.0 0.0 0.0 1.0 0.0 0.0 0.0 0.0 0.0 0.0 0.0 1.0 0.0 0.0 0.0\n",
      " 0.0 0.0 0.0 0.0 0.0 0.0 0.0 0.0 0.0 0.0 0.0 0.0 0.0 0.0 0.0 0.0 1.0 0.0\n",
      " 0.0 0.0 0.0 0.0 0.0 1.0 0.0 1.0 0.0 0.0 1.0 0.0 0.0 0.0 0.0 0.0\n",
      " 0.39795918367346933]\n"
     ]
    }
   ],
   "source": [
    "print(X_main_new[0])"
   ]
  },
  {
   "cell_type": "code",
   "execution_count": 103,
   "metadata": {},
   "outputs": [],
   "source": [
    "# PREDICTING NEW DATASET USING LOGISTIC REGRESSION after HYPERPARAMETER TUNING:\n",
    "y_pred_newds= classifier_BP.predict(X_main_new)"
   ]
  },
  {
   "cell_type": "code",
   "execution_count": 104,
   "metadata": {},
   "outputs": [],
   "source": [
    "new_ds_pr['salary'] = y_pred_newds"
   ]
  },
  {
   "cell_type": "code",
   "execution_count": 105,
   "metadata": {},
   "outputs": [],
   "source": [
    "#Changing '1' and '0' classes to their respective names:\n",
    "\n",
    "a = []\n",
    "for i in(new_ds_pr['salary']):\n",
    "    if i == 0:\n",
    "        a.append('<=50k')\n",
    "    else:\n",
    "        a.append('>50k')\n",
    "    "
   ]
  },
  {
   "cell_type": "code",
   "execution_count": 106,
   "metadata": {},
   "outputs": [],
   "source": [
    "new_ds_pr['salary1'] = a"
   ]
  },
  {
   "cell_type": "code",
   "execution_count": 110,
   "metadata": {},
   "outputs": [
    {
     "data": {
      "text/html": [
       "<div>\n",
       "<style scoped>\n",
       "    .dataframe tbody tr th:only-of-type {\n",
       "        vertical-align: middle;\n",
       "    }\n",
       "\n",
       "    .dataframe tbody tr th {\n",
       "        vertical-align: top;\n",
       "    }\n",
       "\n",
       "    .dataframe thead th {\n",
       "        text-align: right;\n",
       "    }\n",
       "</style>\n",
       "<table border=\"1\" class=\"dataframe\">\n",
       "  <thead>\n",
       "    <tr style=\"text-align: right;\">\n",
       "      <th></th>\n",
       "      <th>occupation</th>\n",
       "      <th>education</th>\n",
       "      <th>marital-status</th>\n",
       "      <th>race</th>\n",
       "      <th>sex</th>\n",
       "      <th>workclass</th>\n",
       "      <th>age</th>\n",
       "      <th>hours-per-week</th>\n",
       "      <th>salary</th>\n",
       "    </tr>\n",
       "  </thead>\n",
       "  <tbody>\n",
       "    <tr>\n",
       "      <td>15050</td>\n",
       "      <td>Prof-specialty</td>\n",
       "      <td>Prof-school</td>\n",
       "      <td>Widowed</td>\n",
       "      <td>White</td>\n",
       "      <td>Male</td>\n",
       "      <td>Self-emp-not-inc</td>\n",
       "      <td>1.0</td>\n",
       "      <td>0.602041</td>\n",
       "      <td>&gt;50k</td>\n",
       "    </tr>\n",
       "    <tr>\n",
       "      <td>15051</td>\n",
       "      <td>Transport-moving</td>\n",
       "      <td>HS-grad</td>\n",
       "      <td>Married-civ-spouse</td>\n",
       "      <td>White</td>\n",
       "      <td>Male</td>\n",
       "      <td>Private</td>\n",
       "      <td>1.0</td>\n",
       "      <td>0.397959</td>\n",
       "      <td>&gt;50k</td>\n",
       "    </tr>\n",
       "    <tr>\n",
       "      <td>15052</td>\n",
       "      <td>Exec-managerial</td>\n",
       "      <td>Assoc-acdm</td>\n",
       "      <td>Never-married</td>\n",
       "      <td>White</td>\n",
       "      <td>Male</td>\n",
       "      <td>Private</td>\n",
       "      <td>1.0</td>\n",
       "      <td>0.448980</td>\n",
       "      <td>&lt;=50k</td>\n",
       "    </tr>\n",
       "    <tr>\n",
       "      <td>15053</td>\n",
       "      <td>Prof-specialty</td>\n",
       "      <td>Prof-school</td>\n",
       "      <td>Married-civ-spouse</td>\n",
       "      <td>White</td>\n",
       "      <td>Male</td>\n",
       "      <td>Self-emp-not-inc</td>\n",
       "      <td>1.0</td>\n",
       "      <td>0.448980</td>\n",
       "      <td>&gt;50k</td>\n",
       "    </tr>\n",
       "    <tr>\n",
       "      <td>15054</td>\n",
       "      <td>Prof-specialty</td>\n",
       "      <td>Masters</td>\n",
       "      <td>Divorced</td>\n",
       "      <td>White</td>\n",
       "      <td>Male</td>\n",
       "      <td>Federal-gov</td>\n",
       "      <td>1.0</td>\n",
       "      <td>1.000000</td>\n",
       "      <td>&gt;50k</td>\n",
       "    </tr>\n",
       "    <tr>\n",
       "      <td>15055</td>\n",
       "      <td>Craft-repair</td>\n",
       "      <td>HS-grad</td>\n",
       "      <td>Married-civ-spouse</td>\n",
       "      <td>Asian-Pac-Islander</td>\n",
       "      <td>Male</td>\n",
       "      <td>Private</td>\n",
       "      <td>1.0</td>\n",
       "      <td>0.397959</td>\n",
       "      <td>&gt;50k</td>\n",
       "    </tr>\n",
       "    <tr>\n",
       "      <td>15056</td>\n",
       "      <td>Craft-repair</td>\n",
       "      <td>HS-grad</td>\n",
       "      <td>Never-married</td>\n",
       "      <td>White</td>\n",
       "      <td>Male</td>\n",
       "      <td>Local-gov</td>\n",
       "      <td>1.0</td>\n",
       "      <td>0.397959</td>\n",
       "      <td>&lt;=50k</td>\n",
       "    </tr>\n",
       "    <tr>\n",
       "      <td>15057</td>\n",
       "      <td>Adm-clerical</td>\n",
       "      <td>Some-college</td>\n",
       "      <td>Never-married</td>\n",
       "      <td>White</td>\n",
       "      <td>Female</td>\n",
       "      <td>Private</td>\n",
       "      <td>1.0</td>\n",
       "      <td>0.112245</td>\n",
       "      <td>&lt;=50k</td>\n",
       "    </tr>\n",
       "    <tr>\n",
       "      <td>15058</td>\n",
       "      <td>Other-service</td>\n",
       "      <td>Some-college</td>\n",
       "      <td>Never-married</td>\n",
       "      <td>White</td>\n",
       "      <td>Male</td>\n",
       "      <td>Private</td>\n",
       "      <td>1.0</td>\n",
       "      <td>0.091837</td>\n",
       "      <td>&lt;=50k</td>\n",
       "    </tr>\n",
       "    <tr>\n",
       "      <td>15059</td>\n",
       "      <td>Adm-clerical</td>\n",
       "      <td>HS-grad</td>\n",
       "      <td>Never-married</td>\n",
       "      <td>White</td>\n",
       "      <td>Female</td>\n",
       "      <td>Private</td>\n",
       "      <td>1.0</td>\n",
       "      <td>0.397959</td>\n",
       "      <td>&lt;=50k</td>\n",
       "    </tr>\n",
       "  </tbody>\n",
       "</table>\n",
       "</div>"
      ],
      "text/plain": [
       "             occupation     education      marital-status                race  \\\n",
       "15050    Prof-specialty   Prof-school             Widowed               White   \n",
       "15051  Transport-moving       HS-grad  Married-civ-spouse               White   \n",
       "15052   Exec-managerial    Assoc-acdm       Never-married               White   \n",
       "15053    Prof-specialty   Prof-school  Married-civ-spouse               White   \n",
       "15054    Prof-specialty       Masters            Divorced               White   \n",
       "15055      Craft-repair       HS-grad  Married-civ-spouse  Asian-Pac-Islander   \n",
       "15056      Craft-repair       HS-grad       Never-married               White   \n",
       "15057      Adm-clerical  Some-college       Never-married               White   \n",
       "15058     Other-service  Some-college       Never-married               White   \n",
       "15059      Adm-clerical       HS-grad       Never-married               White   \n",
       "\n",
       "          sex         workclass  age  hours-per-week salary  \n",
       "15050    Male  Self-emp-not-inc  1.0        0.602041   >50k  \n",
       "15051    Male           Private  1.0        0.397959   >50k  \n",
       "15052    Male           Private  1.0        0.448980  <=50k  \n",
       "15053    Male  Self-emp-not-inc  1.0        0.448980   >50k  \n",
       "15054    Male       Federal-gov  1.0        1.000000   >50k  \n",
       "15055    Male           Private  1.0        0.397959   >50k  \n",
       "15056    Male         Local-gov  1.0        0.397959  <=50k  \n",
       "15057  Female           Private  1.0        0.112245  <=50k  \n",
       "15058    Male           Private  1.0        0.091837  <=50k  \n",
       "15059  Female           Private  1.0        0.397959  <=50k  "
      ]
     },
     "execution_count": 110,
     "metadata": {},
     "output_type": "execute_result"
    }
   ],
   "source": [
    "new_ds_pr.tail(10)"
   ]
  },
  {
   "cell_type": "code",
   "execution_count": 108,
   "metadata": {},
   "outputs": [],
   "source": [
    "#DROP COLUMN:\n",
    "new_ds_pr = new_ds_pr.drop('salary', 1)"
   ]
  },
  {
   "cell_type": "code",
   "execution_count": 109,
   "metadata": {},
   "outputs": [],
   "source": [
    "new_ds_pr = new_ds_pr.rename(columns={'salary1':'salary'})"
   ]
  },
  {
   "cell_type": "code",
   "execution_count": 203,
   "metadata": {},
   "outputs": [
    {
     "data": {
      "image/png": "[encoded data removed]",
      "text/plain": [
       "<Figure size 360x360 with 1 Axes>"
      ]
     },
     "metadata": {
      "needs_background": "light"
     },
     "output_type": "display_data"
    }
   ],
   "source": [
    "# Bar chart to understand Occupation Class's data:\n",
    "width=5\n",
    "height=5\n",
    "\n",
    "figure(figsize=(width,height))\n",
    "countplot(data=new_ds_pr,x=\"salary\")\n",
    "show()"
   ]
  },
  {
   "cell_type": "code",
   "execution_count": 111,
   "metadata": {},
   "outputs": [],
   "source": [
    "# SAVE IT TO A NEW CSV after PREDICTION:\n",
    "new_ds_pr.to_csv('B00825041_prediction.csv')"
   ]
  },
  {
   "cell_type": "code",
   "execution_count": null,
   "metadata": {},
   "outputs": [],
   "source": []
  }
 ],
 "metadata": {
  "kernelspec": {
   "display_name": "Python 3",
   "language": "python",
   "name": "python3"
  },
  "language_info": {
   "codemirror_mode": {
    "name": "ipython",
    "version": 3
   },
   "file_extension": ".py",
   "mimetype": "text/x-python",
   "name": "python",
   "nbconvert_exporter": "python",
   "pygments_lexer": "ipython3",
   "version": "3.7.4"
  }
 },
 "nbformat": 4,
 "nbformat_minor": 2
}
